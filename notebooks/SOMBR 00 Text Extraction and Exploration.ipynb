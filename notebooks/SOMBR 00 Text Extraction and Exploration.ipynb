{
 "cells": [
  {
   "attachments": {},
   "cell_type": "markdown",
   "metadata": {
    "id": "BcVu8fhIbAzs"
   },
   "source": [
    "# SOMBR: Using SOM to Triage Software Bug Reports"
   ]
  },
  {
   "attachments": {},
   "cell_type": "markdown",
   "metadata": {
    "id": "obeliSL-bPMw"
   },
   "source": [
    "## Setup"
   ]
  },
  {
   "attachments": {},
   "cell_type": "markdown",
   "metadata": {
    "id": "5k-uyv9WbHiq"
   },
   "source": [
    "### Import package dependencies"
   ]
  },
  {
   "cell_type": "code",
   "execution_count": 1,
   "metadata": {
    "executionInfo": {
     "elapsed": 701,
     "status": "ok",
     "timestamp": 1683198564077,
     "user": {
      "displayName": "Farina Pontejos",
      "userId": "13235371314324194401"
     },
     "user_tz": -60
    },
    "id": "rzXzxaOcagDq"
   },
   "outputs": [],
   "source": [
    "import os\n",
    "import re\n",
    "import sys\n",
    "import sqlite3\n",
    "import pandas as pd\n",
    "\n",
    "# from tqdm import tqdm\n",
    "from tqdm.notebook import trange, tqdm\n",
    " \n",
    " "
   ]
  },
  {
   "cell_type": "code",
   "execution_count": 2,
   "metadata": {},
   "outputs": [],
   "source": [
    "from sklearn.datasets import fetch_20newsgroups\n",
    "import nltk\n",
    "from nltk.tokenize import sent_tokenize, word_tokenize\n",
    "from nltk.corpus import stopwords\n",
    "\n",
    "# nltk.download('punkt')"
   ]
  },
  {
   "cell_type": "code",
   "execution_count": 3,
   "metadata": {},
   "outputs": [],
   "source": [
    "from collections import Counter\n",
    "import numpy as np\n",
    "import statistics \n"
   ]
  },
  {
   "cell_type": "code",
   "execution_count": 4,
   "metadata": {},
   "outputs": [],
   "source": [
    "import matplotlib.pyplot as plt\n",
    "import seaborn as sns\n",
    "\n",
    "\n",
    "%matplotlib inline\n",
    "\n",
    "sns.set(style=\"white\")\n",
    "sns.set_context(\"paper\")\n",
    "plt.rcParams['figure.dpi'] = 300\n",
    "plt.rcParams['savefig.dpi'] = 300\n",
    "plt.rcParams['font.family'] = ['cmr10', 'sans-serif']\n",
    "plt.rcParams['axes.formatter.use_mathtext'] = True\n"
   ]
  },
  {
   "attachments": {},
   "cell_type": "markdown",
   "metadata": {
    "id": "gUR71tFFbLkw"
   },
   "source": [
    "### Define variables"
   ]
  },
  {
   "cell_type": "code",
   "execution_count": 5,
   "metadata": {
    "executionInfo": {
     "elapsed": 3,
     "status": "ok",
     "timestamp": 1683198564077,
     "user": {
      "displayName": "Farina Pontejos",
      "userId": "13235371314324194401"
     },
     "user_tz": -60
    },
    "id": "LmxY5ycAAXxF"
   },
   "outputs": [],
   "source": [
    "BR_QUERY_ALL = \"\"\"SELECT * from issue\"\"\"\n",
    "\n",
    "KEEP_ISSUE_COLS = ['issue_id', 'type', 'created_date', 'resolved_date', 'summary', 'description', 'priority', 'status', 'resolution', 'assignee_username']\n",
    "KEEP_RESOLUTION = ['Done', 'Duplicate', 'Fixed', 'Resolved']\n",
    "KEEP_STATUS = ['Resolved', 'Closed']\n",
    "KEEP_TYPE = ['Bug']\n",
    "\n",
    "\n",
    "THRESHOLD_CORPUS_SIZE = 2500\n",
    "\n",
    "KEEP_DB_COLS_QUERY = \"\"\"\n",
    "SELECT \n",
    "{} \n",
    "from issue\n",
    "\"\"\".format((\",\\n\").join(KEEP_ISSUE_COLS))"
   ]
  },
  {
   "cell_type": "code",
   "execution_count": 6,
   "metadata": {
    "executionInfo": {
     "elapsed": 2,
     "status": "ok",
     "timestamp": 1683198564077,
     "user": {
      "displayName": "Farina Pontejos",
      "userId": "13235371314324194401"
     },
     "user_tz": -60
    },
    "id": "93HJF6i6BTk9"
   },
   "outputs": [],
   "source": [
    "db_path = \"./db/\"\n",
    "db_list = ['railo.sqlite3',\n",
    " 'seam2.sqlite3',\n",
    " 'kafka.sqlite3',\n",
    " 'resteasy.sqlite3',\n",
    " 'jboss-tm.sqlite3',\n",
    " 'hbase.sqlite3',\n",
    " 'hive.sqlite3',\n",
    " 'hornetq.sqlite3',\n",
    " 'zookeeper.sqlite3',\n",
    " 'jbpm.sqlite3',\n",
    " 'teiid.sqlite3',\n",
    " 'izpack.sqlite3',\n",
    " 'weld.sqlite3',\n",
    " 'log4j2.sqlite3',\n",
    " 'lucene.sqlite3',\n",
    " 'infinispan.sqlite3',\n",
    " 'hadoop.sqlite3',\n",
    " 'flink.sqlite3',\n",
    " 'errai.sqlite3',\n",
    " 'axis2.sqlite3',\n",
    " 'jbehave.sqlite3',\n",
    " 'groovy.sqlite3',\n",
    " 'pig.sqlite3',\n",
    " 'cassandra.sqlite3',\n",
    " 'archiva.sqlite3',\n",
    " 'drools.sqlite3',\n",
    " 'derby.sqlite3',\n",
    " 'keycloak.sqlite3',\n",
    " 'hibernate.sqlite3',\n",
    " 'switchyard.sqlite3',\n",
    " 'maven.sqlite3',\n",
    " 'spark.sqlite3']\n",
    "\n",
    "db_list.sort()\n",
    "db_names = [i.split(\".\")[0] for i in db_list]\n"
   ]
  },
  {
   "attachments": {},
   "cell_type": "markdown",
   "metadata": {
    "id": "0j_bKH9RbTDG"
   },
   "source": [
    "## Extract text from DB"
   ]
  },
  {
   "attachments": {},
   "cell_type": "markdown",
   "metadata": {},
   "source": [
    "### Utility Functions"
   ]
  },
  {
   "cell_type": "code",
   "execution_count": 8,
   "metadata": {},
   "outputs": [],
   "source": [
    "def remove_digits(t):\n",
    "    t = re.sub(r'\\d+', '', t)\n",
    "    t = re.sub(' +', ' ', t)\n",
    "    return t.strip()\n",
    "\n",
    "def replace_symbols(t):    \n",
    "    t = ''.join([re.sub(r'[^A-Za-z0-9 ]+',' ',t)])\n",
    "    t = re.sub(' +', ' ', t)\n",
    "    return t.strip()\n",
    "\n",
    "def truncate_sentence(s, l=300):\n",
    "    ts = \" \".join(s.split(\" \")[:l])    \n",
    "    return ts\n",
    "\n",
    "def baseline_prep(t):\n",
    "    tokens = \" \".join(word_tokenize(t))    \n",
    "    tokens = remove_digits(tokens)\n",
    "    tokens = replace_symbols(tokens)\n",
    "    tokens = truncate_sentence(tokens)\n",
    "    tokens = re.sub(' +', ' ', tokens)\n",
    "    \n",
    "    return tokens.strip()"
   ]
  },
  {
   "attachments": {},
   "cell_type": "markdown",
   "metadata": {
    "id": "9KOTuJYSbVsX"
   },
   "source": [
    "### Filter data"
   ]
  },
  {
   "cell_type": "code",
   "execution_count": 10,
   "metadata": {
    "executionInfo": {
     "elapsed": 1436,
     "status": "ok",
     "timestamp": 1683198565511,
     "user": {
      "displayName": "Farina Pontejos",
      "userId": "13235371314324194401"
     },
     "user_tz": -60
    },
    "id": "Dt3Z6e3yEKm6"
   },
   "outputs": [],
   "source": [
    "def get_filtered_csv(db_list, db_path_base, csv_path_base, csv_filtered_full_path, csv_filtered_path):\n",
    "    f_counter = {}\n",
    "    f_counts = {}\n",
    "    \n",
    "\n",
    "    for db_i in tqdm(db_list):\n",
    "        db_path = os.path.join(db_path_base, db_i)\n",
    "        \n",
    "        con = sqlite3.connect(db_path)\n",
    "        cur = con.cursor()\n",
    "\n",
    "        db_name = db_i.split(\".\")[0]\n",
    "        df_star = pd.read_sql_query(BR_QUERY_ALL, con)\n",
    "\n",
    "        df_star.sort_values(by='resolved_date', inplace=True)\n",
    "        \n",
    "        df_star['isbug']          = df_star.apply(lambda row: (1 if (row['type']=='Bug') else 0), axis=1 )\n",
    "        df_star['statusdone']     = df_star.apply(lambda row: (1 if (row['status'] in KEEP_STATUS) else 0), axis=1 )\n",
    "        df_star['resolutiondone'] = df_star.apply(lambda row: (1 if (row['resolution'] in KEEP_RESOLUTION) else 0), axis=1 )\n",
    "        df_star['hasassigned']    = (~df_star['assignee_username'].isna()).astype(int)\n",
    "        \n",
    "        df_filt = df_star[(df_star['isbug']==1) & \n",
    "                (df_star['statusdone']==1) &\n",
    "                (df_star['resolutiondone']==1) & \n",
    "                (df_star['hasassigned']==1)\n",
    "               ]\n",
    "        \n",
    "        df_trunc = df_filt.copy()\n",
    "        df_trunc['summary'] = df_trunc['summary'].apply(lambda x: baseline_prep(x))\n",
    "        df_trunc.replace('',np.nan, inplace=True)\n",
    "        df_trunc.dropna(subset=KEEP_ISSUE_COLS, inplace=True)\n",
    "\n",
    "\n",
    "        if df_trunc.shape[0] > THRESHOLD_CORPUS_SIZE:\n",
    "            ## Keep all rows\n",
    "            csv_name = db_name + \"_issue.csv\"\n",
    "\n",
    "            csv_path_b = os.path.join(csv_path_base, csv_name)\n",
    "            df_star[KEEP_ISSUE_COLS].to_csv(csv_path_b, index=False)\n",
    "            \n",
    "            ## Keep filtered rows\n",
    "            csv_name = db_name + \"_filt_full.csv\"\n",
    "\n",
    "            csv_path_f = os.path.join(csv_filtered_full_path, csv_name)\n",
    "            df_filt[KEEP_ISSUE_COLS].to_csv(csv_path_f, index=False)\n",
    "            \n",
    "            ## Keep filtered rows, truncated + baseline prep\n",
    "            \n",
    "            csv_name = db_name + \"_filtered.csv\"\n",
    "\n",
    "            csv_path_t = os.path.join(csv_filtered_path, csv_name)\n",
    "            df_trunc[KEEP_ISSUE_COLS].to_csv(csv_path_t, index=False)\n",
    "\n",
    "\n",
    "            f_counter[db_name] = df_trunc[KEEP_ISSUE_COLS]\n",
    "    \n",
    "    return f_counter\n",
    "\n",
    "\n",
    "\n"
   ]
  },
  {
   "cell_type": "code",
   "execution_count": 11,
   "metadata": {
    "colab": {
     "base_uri": "https://localhost:8080/"
    },
    "executionInfo": {
     "elapsed": 32943,
     "status": "ok",
     "timestamp": 1683198598452,
     "user": {
      "displayName": "Farina Pontejos",
      "userId": "13235371314324194401"
     },
     "user_tz": -60
    },
    "id": "_C38ERJZGFue",
    "outputId": "e4574cbd-c884-43fd-f955-7e491188b57e"
   },
   "outputs": [
    {
     "data": {
      "application/vnd.jupyter.widget-view+json": {
       "model_id": "6ca9a305b3b746bd82d8140f6d74dc19",
       "version_major": 2,
       "version_minor": 0
      },
      "text/plain": [
       "  0%|          | 0/32 [00:00<?, ?it/s]"
      ]
     },
     "metadata": {},
     "output_type": "display_data"
    }
   ],
   "source": [
    "db_path = \"./db\"\n",
    "csv_path_base = \"./csv/DB_extract\"\n",
    "csv_filtered_path = \"./csv/DB_filtered\"\n",
    "csv_filtered_full_path = \"./csv/DB_filtered_full\"\n",
    "filtered_csv = get_filtered_csv(db_list, db_path, csv_path_base, csv_filtered_full_path, csv_filtered_path)"
   ]
  },
  {
   "cell_type": "code",
   "execution_count": null,
   "metadata": {},
   "outputs": [],
   "source": []
  },
  {
   "cell_type": "code",
   "execution_count": 12,
   "metadata": {},
   "outputs": [],
   "source": [
    "from sklearn.model_selection import train_test_split\n",
    "from sklearn.preprocessing import LabelEncoder, OrdinalEncoder\n"
   ]
  },
  {
   "cell_type": "code",
   "execution_count": 13,
   "metadata": {},
   "outputs": [],
   "source": [
    "def split_and_label_df(df, xcol, ycol):\n",
    "    X = df[[xcol]]\n",
    "    y = df[ycol]\n",
    "    X_train, X_test, y_train, y_test = train_test_split(X, y, \n",
    "                                                        shuffle=False,\n",
    "                                                        test_size=.7, \n",
    "                                                        random_state=0)\n",
    "    \n",
    "    oe = OrdinalEncoder(handle_unknown='use_encoded_value',\n",
    "                    unknown_value=-1)\n",
    "    \n",
    "    oe.fit(np.array(y_train).reshape(-1,1))\n",
    "    \n",
    "    y_train_encoded = oe.transform(np.array(y_train).reshape(-1,1))\n",
    "    y_test_encoded  = oe.transform(np.array(y_test).reshape(-1,1))\n",
    "\n",
    "    return X_train, X_test, y_train_encoded, y_test_encoded\n",
    "\n"
   ]
  },
  {
   "cell_type": "code",
   "execution_count": 14,
   "metadata": {
    "executionInfo": {
     "elapsed": 11,
     "status": "ok",
     "timestamp": 1683198598452,
     "user": {
      "displayName": "Farina Pontejos",
      "userId": "13235371314324194401"
     },
     "user_tz": -60
    },
    "id": "5Wj3ae6hZAQc"
   },
   "outputs": [],
   "source": [
    "filtered_csv_list = list(filtered_csv.keys())"
   ]
  },
  {
   "cell_type": "code",
   "execution_count": 15,
   "metadata": {},
   "outputs": [
    {
     "data": {
      "text/html": [
       "<div>\n",
       "<style scoped>\n",
       "    .dataframe tbody tr th:only-of-type {\n",
       "        vertical-align: middle;\n",
       "    }\n",
       "\n",
       "    .dataframe tbody tr th {\n",
       "        vertical-align: top;\n",
       "    }\n",
       "\n",
       "    .dataframe thead th {\n",
       "        text-align: right;\n",
       "    }\n",
       "</style>\n",
       "<table border=\"1\" class=\"dataframe\">\n",
       "  <thead>\n",
       "    <tr style=\"text-align: right;\">\n",
       "      <th></th>\n",
       "      <th>issue_id</th>\n",
       "      <th>type</th>\n",
       "      <th>created_date</th>\n",
       "      <th>resolved_date</th>\n",
       "      <th>summary</th>\n",
       "      <th>description</th>\n",
       "      <th>priority</th>\n",
       "      <th>status</th>\n",
       "      <th>resolution</th>\n",
       "      <th>assignee_username</th>\n",
       "    </tr>\n",
       "  </thead>\n",
       "  <tbody>\n",
       "    <tr>\n",
       "      <th>0</th>\n",
       "      <td>GROOVY-16</td>\n",
       "      <td>Bug</td>\n",
       "      <td>2003-10-01T13:21:47Z</td>\n",
       "      <td>2003-10-05T18:55:09Z</td>\n",
       "      <td>Support closures with no parameters</td>\n",
       "      <td>We need to support closures with no parameters...</td>\n",
       "      <td>Major</td>\n",
       "      <td>Closed</td>\n",
       "      <td>Fixed</td>\n",
       "      <td>bob</td>\n",
       "    </tr>\n",
       "    <tr>\n",
       "      <th>1</th>\n",
       "      <td>GROOVY-20</td>\n",
       "      <td>Bug</td>\n",
       "      <td>2003-10-02T05:58:07Z</td>\n",
       "      <td>2003-10-05T20:05:22Z</td>\n",
       "      <td>allow package to be optional</td>\n",
       "      <td>The package statement should be optional, defa...</td>\n",
       "      <td>Major</td>\n",
       "      <td>Closed</td>\n",
       "      <td>Fixed</td>\n",
       "      <td>bob</td>\n",
       "    </tr>\n",
       "    <tr>\n",
       "      <th>2</th>\n",
       "      <td>GROOVY-19</td>\n",
       "      <td>Bug</td>\n",
       "      <td>2003-10-02T05:57:58Z</td>\n",
       "      <td>2003-10-07T17:26:39Z</td>\n",
       "      <td>package should be optional in a Groovy class</td>\n",
       "      <td>Right now the package statement is mandatory. ...</td>\n",
       "      <td>Minor</td>\n",
       "      <td>Closed</td>\n",
       "      <td>Duplicate</td>\n",
       "      <td>bob</td>\n",
       "    </tr>\n",
       "    <tr>\n",
       "      <th>3</th>\n",
       "      <td>GROOVY-40</td>\n",
       "      <td>Bug</td>\n",
       "      <td>2003-10-28T23:22:40Z</td>\n",
       "      <td>2003-10-31T12:59:44Z</td>\n",
       "      <td>Allow class to be used as a special variable i...</td>\n",
       "      <td>I'd like 'class' to be a special variable like...</td>\n",
       "      <td>Major</td>\n",
       "      <td>Closed</td>\n",
       "      <td>Fixed</td>\n",
       "      <td>bob</td>\n",
       "    </tr>\n",
       "    <tr>\n",
       "      <th>4</th>\n",
       "      <td>GROOVY-47</td>\n",
       "      <td>Bug</td>\n",
       "      <td>2003-11-03T02:23:26Z</td>\n",
       "      <td>2003-11-03T09:28:23Z</td>\n",
       "      <td>Allow as a first character of a line to mean a...</td>\n",
       "      <td>To be able to run nice shell scripts like this...</td>\n",
       "      <td>Major</td>\n",
       "      <td>Closed</td>\n",
       "      <td>Fixed</td>\n",
       "      <td>bob</td>\n",
       "    </tr>\n",
       "  </tbody>\n",
       "</table>\n",
       "</div>"
      ],
      "text/plain": [
       "    issue_id type          created_date         resolved_date   \n",
       "0  GROOVY-16  Bug  2003-10-01T13:21:47Z  2003-10-05T18:55:09Z  \\\n",
       "1  GROOVY-20  Bug  2003-10-02T05:58:07Z  2003-10-05T20:05:22Z   \n",
       "2  GROOVY-19  Bug  2003-10-02T05:57:58Z  2003-10-07T17:26:39Z   \n",
       "3  GROOVY-40  Bug  2003-10-28T23:22:40Z  2003-10-31T12:59:44Z   \n",
       "4  GROOVY-47  Bug  2003-11-03T02:23:26Z  2003-11-03T09:28:23Z   \n",
       "\n",
       "                                             summary   \n",
       "0                Support closures with no parameters  \\\n",
       "1                       allow package to be optional   \n",
       "2       package should be optional in a Groovy class   \n",
       "3  Allow class to be used as a special variable i...   \n",
       "4  Allow as a first character of a line to mean a...   \n",
       "\n",
       "                                         description priority  status   \n",
       "0  We need to support closures with no parameters...    Major  Closed  \\\n",
       "1  The package statement should be optional, defa...    Major  Closed   \n",
       "2  Right now the package statement is mandatory. ...    Minor  Closed   \n",
       "3  I'd like 'class' to be a special variable like...    Major  Closed   \n",
       "4  To be able to run nice shell scripts like this...    Major  Closed   \n",
       "\n",
       "  resolution assignee_username  \n",
       "0      Fixed               bob  \n",
       "1      Fixed               bob  \n",
       "2  Duplicate               bob  \n",
       "3      Fixed               bob  \n",
       "4      Fixed               bob  "
      ]
     },
     "execution_count": 15,
     "metadata": {},
     "output_type": "execute_result"
    }
   ],
   "source": [
    "groovy = filtered_csv['groovy'].sort_values(by='resolved_date')[KEEP_ISSUE_COLS].copy()\n",
    "groovy.reset_index(drop=True, inplace=True)\n",
    "groovy.head()"
   ]
  },
  {
   "cell_type": "code",
   "execution_count": null,
   "metadata": {},
   "outputs": [],
   "source": []
  },
  {
   "cell_type": "code",
   "execution_count": null,
   "metadata": {},
   "outputs": [],
   "source": []
  },
  {
   "cell_type": "code",
   "execution_count": 16,
   "metadata": {},
   "outputs": [
    {
     "data": {
      "text/plain": [
       "['cassandra',\n",
       " 'groovy',\n",
       " 'hadoop',\n",
       " 'hbase',\n",
       " 'hibernate',\n",
       " 'hive',\n",
       " 'infinispan',\n",
       " 'jbpm',\n",
       " 'lucene',\n",
       " 'spark']"
      ]
     },
     "execution_count": 16,
     "metadata": {},
     "output_type": "execute_result"
    }
   ],
   "source": [
    "filtered_csv_list"
   ]
  },
  {
   "attachments": {},
   "cell_type": "markdown",
   "metadata": {},
   "source": [
    "## Get Corpus Stats"
   ]
  },
  {
   "cell_type": "code",
   "execution_count": 17,
   "metadata": {},
   "outputs": [
    {
     "data": {
      "text/plain": [
       "dict_keys(['cassandra', 'groovy', 'hadoop', 'hbase', 'hibernate', 'hive', 'infinispan', 'jbpm', 'lucene', 'spark'])"
      ]
     },
     "execution_count": 17,
     "metadata": {},
     "output_type": "execute_result"
    }
   ],
   "source": [
    "filtered_csv.keys()"
   ]
  },
  {
   "cell_type": "code",
   "execution_count": 18,
   "metadata": {},
   "outputs": [
    {
     "data": {
      "text/plain": [
       "count     80.000000\n",
       "mean      47.787500\n",
       "std       84.769784\n",
       "min        1.000000\n",
       "25%        2.000000\n",
       "50%       14.500000\n",
       "75%       50.750000\n",
       "max      479.000000\n",
       "Name: count, dtype: float64"
      ]
     },
     "execution_count": 18,
     "metadata": {},
     "output_type": "execute_result"
    }
   ],
   "source": [
    "filtered_csv['lucene'][['assignee_username']].groupby(['assignee_username']).value_counts().reset_index()['count'].describe()"
   ]
  },
  {
   "cell_type": "code",
   "execution_count": 19,
   "metadata": {},
   "outputs": [
    {
     "data": {
      "text/html": [
       "<div>\n",
       "<style scoped>\n",
       "    .dataframe tbody tr th:only-of-type {\n",
       "        vertical-align: middle;\n",
       "    }\n",
       "\n",
       "    .dataframe tbody tr th {\n",
       "        vertical-align: top;\n",
       "    }\n",
       "\n",
       "    .dataframe thead th {\n",
       "        text-align: right;\n",
       "    }\n",
       "</style>\n",
       "<table border=\"1\" class=\"dataframe\">\n",
       "  <thead>\n",
       "    <tr style=\"text-align: right;\">\n",
       "      <th></th>\n",
       "      <th>0</th>\n",
       "    </tr>\n",
       "  </thead>\n",
       "  <tbody>\n",
       "    <tr>\n",
       "      <th>count</th>\n",
       "      <td>80.000000</td>\n",
       "    </tr>\n",
       "    <tr>\n",
       "      <th>mean</th>\n",
       "      <td>47.787500</td>\n",
       "    </tr>\n",
       "    <tr>\n",
       "      <th>std</th>\n",
       "      <td>84.769784</td>\n",
       "    </tr>\n",
       "    <tr>\n",
       "      <th>min</th>\n",
       "      <td>1.000000</td>\n",
       "    </tr>\n",
       "    <tr>\n",
       "      <th>25%</th>\n",
       "      <td>2.000000</td>\n",
       "    </tr>\n",
       "    <tr>\n",
       "      <th>50%</th>\n",
       "      <td>14.500000</td>\n",
       "    </tr>\n",
       "    <tr>\n",
       "      <th>75%</th>\n",
       "      <td>50.750000</td>\n",
       "    </tr>\n",
       "    <tr>\n",
       "      <th>max</th>\n",
       "      <td>479.000000</td>\n",
       "    </tr>\n",
       "  </tbody>\n",
       "</table>\n",
       "</div>"
      ],
      "text/plain": [
       "                0\n",
       "count   80.000000\n",
       "mean    47.787500\n",
       "std     84.769784\n",
       "min      1.000000\n",
       "25%      2.000000\n",
       "50%     14.500000\n",
       "75%     50.750000\n",
       "max    479.000000"
      ]
     },
     "execution_count": 19,
     "metadata": {},
     "output_type": "execute_result"
    }
   ],
   "source": [
    "pd.DataFrame(filtered_csv['lucene'][['assignee_username']].groupby(['assignee_username']).value_counts().values).describe()"
   ]
  },
  {
   "cell_type": "code",
   "execution_count": 20,
   "metadata": {},
   "outputs": [
    {
     "data": {
      "text/html": [
       "<div>\n",
       "<style scoped>\n",
       "    .dataframe tbody tr th:only-of-type {\n",
       "        vertical-align: middle;\n",
       "    }\n",
       "\n",
       "    .dataframe tbody tr th {\n",
       "        vertical-align: top;\n",
       "    }\n",
       "\n",
       "    .dataframe thead th {\n",
       "        text-align: right;\n",
       "    }\n",
       "</style>\n",
       "<table border=\"1\" class=\"dataframe\">\n",
       "  <thead>\n",
       "    <tr style=\"text-align: right;\">\n",
       "      <th></th>\n",
       "      <th>min</th>\n",
       "      <th>max</th>\n",
       "      <th>n_targets</th>\n",
       "      <th>targetcount_mean</th>\n",
       "      <th>targetcount_median</th>\n",
       "    </tr>\n",
       "  </thead>\n",
       "  <tbody>\n",
       "    <tr>\n",
       "      <th>cassandra</th>\n",
       "      <td>1.0</td>\n",
       "      <td>553.0</td>\n",
       "      <td>389</td>\n",
       "      <td>11.989717</td>\n",
       "      <td>1.0</td>\n",
       "    </tr>\n",
       "    <tr>\n",
       "      <th>groovy</th>\n",
       "      <td>1.0</td>\n",
       "      <td>902.0</td>\n",
       "      <td>56</td>\n",
       "      <td>62.732143</td>\n",
       "      <td>12.0</td>\n",
       "    </tr>\n",
       "    <tr>\n",
       "      <th>hadoop</th>\n",
       "      <td>1.0</td>\n",
       "      <td>247.0</td>\n",
       "      <td>885</td>\n",
       "      <td>12.983051</td>\n",
       "      <td>2.0</td>\n",
       "    </tr>\n",
       "    <tr>\n",
       "      <th>hbase</th>\n",
       "      <td>1.0</td>\n",
       "      <td>667.0</td>\n",
       "      <td>471</td>\n",
       "      <td>12.524416</td>\n",
       "      <td>2.0</td>\n",
       "    </tr>\n",
       "    <tr>\n",
       "      <th>hibernate</th>\n",
       "      <td>1.0</td>\n",
       "      <td>623.0</td>\n",
       "      <td>46</td>\n",
       "      <td>59.760870</td>\n",
       "      <td>11.5</td>\n",
       "    </tr>\n",
       "    <tr>\n",
       "      <th>hive</th>\n",
       "      <td>1.0</td>\n",
       "      <td>295.0</td>\n",
       "      <td>435</td>\n",
       "      <td>13.416092</td>\n",
       "      <td>2.0</td>\n",
       "    </tr>\n",
       "    <tr>\n",
       "      <th>infinispan</th>\n",
       "      <td>1.0</td>\n",
       "      <td>500.0</td>\n",
       "      <td>63</td>\n",
       "      <td>46.190476</td>\n",
       "      <td>4.0</td>\n",
       "    </tr>\n",
       "    <tr>\n",
       "      <th>jbpm</th>\n",
       "      <td>1.0</td>\n",
       "      <td>450.0</td>\n",
       "      <td>88</td>\n",
       "      <td>29.715909</td>\n",
       "      <td>5.5</td>\n",
       "    </tr>\n",
       "    <tr>\n",
       "      <th>lucene</th>\n",
       "      <td>1.0</td>\n",
       "      <td>479.0</td>\n",
       "      <td>80</td>\n",
       "      <td>47.787500</td>\n",
       "      <td>14.5</td>\n",
       "    </tr>\n",
       "    <tr>\n",
       "      <th>spark</th>\n",
       "      <td>1.0</td>\n",
       "      <td>227.0</td>\n",
       "      <td>709</td>\n",
       "      <td>6.895628</td>\n",
       "      <td>1.0</td>\n",
       "    </tr>\n",
       "  </tbody>\n",
       "</table>\n",
       "</div>"
      ],
      "text/plain": [
       "            min    max  n_targets  targetcount_mean  targetcount_median\n",
       "cassandra   1.0  553.0        389         11.989717                 1.0\n",
       "groovy      1.0  902.0         56         62.732143                12.0\n",
       "hadoop      1.0  247.0        885         12.983051                 2.0\n",
       "hbase       1.0  667.0        471         12.524416                 2.0\n",
       "hibernate   1.0  623.0         46         59.760870                11.5\n",
       "hive        1.0  295.0        435         13.416092                 2.0\n",
       "infinispan  1.0  500.0         63         46.190476                 4.0\n",
       "jbpm        1.0  450.0         88         29.715909                 5.5\n",
       "lucene      1.0  479.0         80         47.787500                14.5\n",
       "spark       1.0  227.0        709          6.895628                 1.0"
      ]
     },
     "execution_count": 20,
     "metadata": {},
     "output_type": "execute_result"
    }
   ],
   "source": [
    "n_targets = []\n",
    "targetcount_mean = []\n",
    "targetcount_median = []\n",
    "desc_cols = ['count', 'mean', 'std', 'min', '25%', '50%', '75%', 'max']\n",
    "target_counts = {}\n",
    "corpus_stats = pd.DataFrame(columns=desc_cols)\n",
    "\n",
    "for corpus_name in filtered_csv.keys():\n",
    "    corpus = filtered_csv[corpus_name].copy()\n",
    "    user_counts = pd.DataFrame(corpus[['assignee_username']].groupby(['assignee_username']).value_counts().values)\n",
    "    corpus_stats = pd.concat([corpus_stats, \n",
    "                              user_counts.describe().rename(columns={0:corpus_name}).T\n",
    "                             ],\n",
    "                             axis=0)\n",
    "    \n",
    "    n_targets.append(corpus[['assignee_username']].nunique().values[0])\n",
    "    counts = Counter(corpus['assignee_username'])\n",
    "    targetcount_mean.append(statistics.mean(counts.values()))\n",
    "    targetcount_median.append(statistics.median(counts.values()))\n",
    "    target_counts[corpus_name] = list(counts.values())\n",
    "    \n",
    "    \n",
    "\n",
    "corpus_stats = pd.concat([corpus_stats.iloc[:,[3,-1]], \n",
    "                       pd.DataFrame(n_targets, index=corpus_stats.index, columns=['n_targets']),\n",
    "                       pd.DataFrame(targetcount_mean, index=corpus_stats.index, columns=['targetcount_mean']),\n",
    "                       pd.DataFrame(targetcount_median, index=corpus_stats.index, columns=['targetcount_median'])\n",
    "                      ],\n",
    "                      axis=1)\n",
    "# corpus_stats.to_csv('./results_summary/stats/corpus_stats.csv')\n",
    "\n",
    "corpus_stats\n",
    "# target_counts"
   ]
  },
  {
   "cell_type": "code",
   "execution_count": 21,
   "metadata": {},
   "outputs": [
    {
     "data": {
      "image/png": "[encoded data removed]",
      "text/plain": [
       "<Figure size 2700x1800 with 12 Axes>"
      ]
     },
     "metadata": {},
     "output_type": "display_data"
    }
   ],
   "source": [
    "fig, ax = plt.subplots(3,4, figsize=(9,6), sharex=True, sharey=True)\n",
    "\n",
    "for axi, cori in zip(ax.flatten(),target_counts):\n",
    "    # sns.histplot(target_counts[cori], ax=axi, bins=15)\n",
    "    sns.boxplot(target_counts[cori], ax=axi, orient='h')\n",
    "    axi.set_title(cori)\n",
    "    axi.set_ylabel(\"\")\n",
    "    axi.set_yticks([])\n",
    "    \n",
    "\n",
    "plt.show()"
   ]
  },
  {
   "cell_type": "code",
   "execution_count": null,
   "metadata": {},
   "outputs": [],
   "source": [
    "from scipy import stats as st\n",
    "\n",
    "[st.mode(np.array(list(target_counts[i].values()))) for i in target_counts]\n"
   ]
  },
  {
   "cell_type": "code",
   "execution_count": null,
   "metadata": {},
   "outputs": [],
   "source": [
    "[target_counts[i].most_common(1)[0] for i in target_counts]\n"
   ]
  },
  {
   "cell_type": "code",
   "execution_count": null,
   "metadata": {},
   "outputs": [],
   "source": [
    "fig = plt.figure(layout='constrained', figsize=(12, 8))\n",
    "\n",
    "fig.suptitle('fig')\n",
    "\n",
    "subfigs = fig.subfigures(3, 4, wspace=0.01)\n",
    "\n",
    "\n",
    "for fi, cori in zip(subfigs.flatten(),target_counts):\n",
    "    axi = fi.subplots(2,1, height_ratios=[2,1], sharex=True)\n",
    "    axbox = axi[1]\n",
    "    axhist = axi[0]\n",
    "    # sns.stripplot(target_counts[cori], ax=axbox, orient='h', color='#AAAAAA')\n",
    "    sns.stripplot(target_counts[cori].values(), ax=axbox, orient='h', s=2, alpha=.25, linewidth=1, marker=\"o\")\n",
    "    sns.histplot(target_counts[cori].values(), ax=axhist, bins=10, edgecolor='k',linewidth=1)\n",
    "    \n"
   ]
  },
  {
   "cell_type": "code",
   "execution_count": null,
   "metadata": {},
   "outputs": [],
   "source": [
    "fig, ax = plt.subplots(3,4, figsize=(12,6), sharex=True, sharey=True)\n",
    "\n",
    "for axi, cori in zip(ax.flatten(),target_counts):\n",
    "    # sns.histplot(target_counts[cori], ax=axi, bins=15)\n",
    "    # sns.stripplot(target_counts[cori], ax=axi, orient='h', s=2, edgecolor='k', linewidth=1, alpha=.5, marker=\"x\")\n",
    "    sns.boxenplot(target_counts[cori], ax=axi, orient='h', )# edgecolor='k', linewidth=1, alpha=.5, marker=\"x\")\n",
    "    axi.set_title(cori)\n",
    "    # axi.set_ylabel(\"\")\n",
    "    # axi.set_yticks([])\n",
    "    \n",
    "\n",
    "plt.show()"
   ]
  },
  {
   "cell_type": "code",
   "execution_count": null,
   "metadata": {},
   "outputs": [],
   "source": [
    "sns.histplot(target_counts['groovy'])"
   ]
  },
  {
   "cell_type": "code",
   "execution_count": null,
   "metadata": {},
   "outputs": [],
   "source": [
    "cor = filtered_csv['groovy']\n",
    "cor.describe().rename(columns={'count_summary':'groovy'}).T"
   ]
  },
  {
   "cell_type": "code",
   "execution_count": null,
   "metadata": {},
   "outputs": [],
   "source": [
    "counts = Counter(cor['assignee_username'])\n",
    "counts.values()"
   ]
  },
  {
   "cell_type": "code",
   "execution_count": null,
   "metadata": {},
   "outputs": [],
   "source": [
    "stat_df_t.columns"
   ]
  },
  {
   "cell_type": "code",
   "execution_count": null,
   "metadata": {},
   "outputs": [],
   "source": [
    "n_targets = []\n",
    "targetcount_mean = []\n",
    "targetcount_median = []\n",
    "\n",
    "i = 'cassandra'\n",
    "f_df = filtered_csv[i]\n",
    "f_df['count_summary'] = f_df['summary'].apply(lambda x: len(x.split(\" \")))    \n",
    "stat_df = f_df[['count_summary']].describe().rename(columns={'count_summary':i})\n",
    "n_targets.append(f_df[['assignee_username']].nunique().values[0])\n",
    "counts = Counter(f_df['assignee_username'])\n",
    "targetcount_mean.append(statistics.mean(counts.values()))\n",
    "targetcount_median.append(statistics.median(counts.values()))\n",
    "\n",
    "for i in filtered_csv_list[1:]:\n",
    "    f_df = filtered_csv[i]\n",
    "    f_df['count_summary'] = f_df['summary'].apply(lambda x: len(x.split(\" \")))    \n",
    "    stat_df = pd.concat([stat_df, \n",
    "                         f_df[['count_summary']].describe().rename(columns={'count_summary':i})],\n",
    "                       axis=1)\n",
    "    \n",
    "    n_targets.append(f_df[['assignee_username']].nunique().values[0])\n",
    "    \n",
    "    counts = Counter(f_df['assignee_username'])\n",
    "    targetcount_mean.append(statistics.mean(counts.values()))\n",
    "    targetcount_median.append(statistics.median(counts.values()))\n",
    "\n",
    "\n",
    "stat_df_t = stat_df.T.copy()\n",
    "stat_df_t = pd.concat([stat_df_t, \n",
    "                       pd.DataFrame(n_targets, index=stat_df_t.index, columns=['n_targets']),\n",
    "                       pd.DataFrame(targetcount_mean, index=stat_df_t.index, columns=['targetcount_mean']),\n",
    "                       pd.DataFrame(targetcount_median, index=stat_df_t.index, columns=['targetcount_median'])\n",
    "                      ],\n",
    "                      axis=1)\n",
    "\n",
    "stat_df_t.round(3)"
   ]
  },
  {
   "cell_type": "code",
   "execution_count": null,
   "metadata": {},
   "outputs": [],
   "source": [
    "stat_df_t.iloc[:,8:]"
   ]
  },
  {
   "cell_type": "code",
   "execution_count": null,
   "metadata": {},
   "outputs": [],
   "source": [
    "# for i in filtered_csv_list:\n",
    "\n",
    "# Use a string as an argument\n"
   ]
  },
  {
   "cell_type": "code",
   "execution_count": null,
   "metadata": {},
   "outputs": [],
   "source": [
    "f_df"
   ]
  },
  {
   "cell_type": "code",
   "execution_count": null,
   "metadata": {},
   "outputs": [],
   "source": []
  }
 ],
 "metadata": {
  "colab": {
   "authorship_tag": "ABX9TyP8h2VmY1JmGRGn1SlKXSmX",
   "collapsed_sections": [
    "5k-uyv9WbHiq",
    "gUR71tFFbLkw",
    "9KOTuJYSbVsX"
   ],
   "mount_file_id": "1Ym2Ig7zA_t3M0A-duOJwsoVtQ8dFEZFb",
   "provenance": []
  },
  "kernelspec": {
   "display_name": "Python 3 (ipykernel)",
   "language": "python",
   "name": "python3"
  },
  "language_info": {
   "codemirror_mode": {
    "name": "ipython",
    "version": 3
   },
   "file_extension": ".py",
   "mimetype": "text/x-python",
   "name": "python",
   "nbconvert_exporter": "python",
   "pygments_lexer": "ipython3",
   "version": "3.10.8"
  }
 },
 "nbformat": 4,
 "nbformat_minor": 4
}
